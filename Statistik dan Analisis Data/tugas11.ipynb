{
 "cells": [
  {
   "cell_type": "code",
   "execution_count": null,
   "id": "c6b4f99c",
   "metadata": {},
   "outputs": [
    {
     "name": "stdout",
     "output_type": "stream",
     "text": [
      "Ringkasan Model Regresi Linier:\n",
      "                            OLS Regression Results                            \n",
      "==============================================================================\n",
      "Dep. Variable:     Kepuasan_Pelanggan   R-squared:                       0.520\n",
      "Model:                            OLS   Adj. R-squared:                  0.489\n",
      "Method:                 Least Squares   F-statistic:                     16.81\n",
      "Date:                Fri, 06 Jun 2025   Prob (F-statistic):           4.74e-13\n",
      "Time:                        16:19:25   Log-Likelihood:                -99.778\n",
      "No. Observations:                 100   AIC:                             213.6\n",
      "Df Residuals:                      93   BIC:                             231.8\n",
      "Df Model:                           6                                         \n",
      "Covariance Type:            nonrobust                                         \n",
      "=====================================================================================\n",
      "                        coef    std err          t      P>|t|      [0.025      0.975]\n",
      "-------------------------------------------------------------------------------------\n",
      "const                 3.8333      0.072     53.437      0.000       3.691       3.976\n",
      "Kualitas_Produk      -2.9762      0.580     -5.135      0.000      -4.127      -1.825\n",
      "Lama_Pengiriman      -1.8333      0.684     -2.679      0.009      -3.192      -0.474\n",
      "Pembayaran           -1.8333      0.399     -4.590      0.000      -2.626      -1.040\n",
      "Promo                -2.2619      0.451     -5.012      0.000      -3.158      -1.366\n",
      "Voucher               0.2857      0.630      0.453      0.651      -0.965       1.537\n",
      "Kesesuaian_Produk     0.1429      0.891      0.160      0.873      -1.627       1.912\n",
      "==============================================================================\n",
      "Omnibus:                        4.867   Durbin-Watson:                   1.926\n",
      "Prob(Omnibus):                  0.088   Jarque-Bera (JB):                3.014\n",
      "Skew:                           0.232   Prob(JB):                        0.222\n",
      "Kurtosis:                       2.287   Cond. No.                         15.4\n",
      "==============================================================================\n",
      "\n",
      "Notes:\n",
      "[1] Standard Errors assume that the covariance matrix of the errors is correctly specified.\n"
     ]
    }
   ],
   "source": [
    "import pandas as pd\n",
    "import statsmodels.api as sm\n",
    "from scipy import stats\n",
    "from statsmodels.stats.outliers_influence import variance_inflation_factor\n",
    "from statsmodels.stats.diagnostic import het_breuschpagan\n",
    "from statsmodels.stats.stattools import durbin_watson\n",
    "\n",
    "# Dataset\n",
    "df = pd.read_csv('dataset_tugas11.csv')\n",
    "\n",
    "# Menentukan variabel dependen dan independen\n",
    "X = df[['Kualitas_Produk', 'Lama_Pengiriman','Pembayaran', 'Promo', 'Voucher', 'Kesesuaian_Produk']]\n",
    "Y = df['Kepuasan_Pelanggan']\n",
    "\n",
    "# Menambahkan konstanta untuk model regresi\n",
    "X = sm.add_constant(X)\n",
    "\n",
    "# Menjalankan model regresi linier\n",
    "model = sm.OLS(Y, X).fit()\n",
    "\n",
    "# Menampilkan ringkasan hasil regresi\n",
    "print(\"Ringkasan Model Regresi Linier:\")\n",
    "print(model.summary())"
   ]
  },
  {
   "cell_type": "code",
   "execution_count": 61,
   "id": "65cc4979",
   "metadata": {},
   "outputs": [
    {
     "name": "stdout",
     "output_type": "stream",
     "text": [
      "\n",
      "Uji Normalitas Shapiro-Wilk:\n",
      "Statistik: 0.8140560170473765, p-value: 6.850132367872259e-10\n"
     ]
    }
   ],
   "source": [
    "# Uji Normalitas (Shapiro-Wilk)\n",
    "residuals = model.resid\n",
    "shapiro_test = stats.shapiro(residuals)\n",
    "print(\"\\nUji Normalitas Shapiro-Wilk:\")\n",
    "print(f\"Statistik: {shapiro_test[0]}, p-value: {shapiro_test[1]}\")"
   ]
  },
  {
   "cell_type": "code",
   "execution_count": 62,
   "id": "1288cb45",
   "metadata": {},
   "outputs": [
    {
     "name": "stdout",
     "output_type": "stream",
     "text": [
      "\n",
      "Uji Multikolinearitas (VIF):\n",
      "            Variable       VIF\n",
      "0              const  1.111111\n",
      "1    Kualitas_Produk  2.110905\n",
      "2    Lama_Pengiriman  1.001000\n",
      "3         Pembayaran  1.002333\n",
      "4              Promo  1.279476\n",
      "5            Voucher  1.680000\n",
      "6  Kesesuaian_Produk  1.697143\n"
     ]
    }
   ],
   "source": [
    "# Uji Multikolinearitas (VIF)\n",
    "vif_data = pd.DataFrame()\n",
    "vif_data[\"Variable\"] = X.columns\n",
    "vif_data[\"VIF\"] = [variance_inflation_factor(\n",
    "    X.values, i) for i in range(len(X.columns))]\n",
    "print(\"\\nUji Multikolinearitas (VIF):\")\n",
    "print(vif_data)"
   ]
  },
  {
   "cell_type": "code",
   "execution_count": 63,
   "id": "87cb0502",
   "metadata": {},
   "outputs": [
    {
     "name": "stdout",
     "output_type": "stream",
     "text": [
      "\n",
      "Uji Heteroskedastisitas (Breusch-Pagan):\n",
      "Statistik: 6.840486496172149, p-value: 0.33585129127630053\n"
     ]
    }
   ],
   "source": [
    "# Uji Heteroskedastisitas (Breusch-Pagan)\n",
    "bp_test = het_breuschpagan(residuals, X)\n",
    "print(\"\\nUji Heteroskedastisitas (Breusch-Pagan):\")\n",
    "print(f\"Statistik: {bp_test[0]}, p-value: {bp_test[1]}\")"
   ]
  },
  {
   "cell_type": "code",
   "execution_count": 64,
   "id": "21f1f01b",
   "metadata": {},
   "outputs": [
    {
     "name": "stdout",
     "output_type": "stream",
     "text": [
      "\n",
      "Uji Autokorelasi (Durbin-Watson):\n",
      "Statistik Durbin-Watson: 1.9258996025165174\n"
     ]
    }
   ],
   "source": [
    "# Uji Autokorelasi (Durbin-Watson)\n",
    "dw_test = durbin_watson(residuals)\n",
    "print(\"\\nUji Autokorelasi (Durbin-Watson):\")\n",
    "print(f\"Statistik Durbin-Watson: {dw_test}\")"
   ]
  }
 ],
 "metadata": {
  "kernelspec": {
   "display_name": "kuliah",
   "language": "python",
   "name": "python3"
  },
  "language_info": {
   "codemirror_mode": {
    "name": "ipython",
    "version": 3
   },
   "file_extension": ".py",
   "mimetype": "text/x-python",
   "name": "python",
   "nbconvert_exporter": "python",
   "pygments_lexer": "ipython3",
   "version": "3.11.5"
  }
 },
 "nbformat": 4,
 "nbformat_minor": 5
}
